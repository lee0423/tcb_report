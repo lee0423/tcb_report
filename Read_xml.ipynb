{
 "cells": [
  {
   "cell_type": "code",
   "execution_count": 60,
   "id": "5bdcab89",
   "metadata": {},
   "outputs": [],
   "source": [
    "import pandas as pd\n",
    "import requests\n",
    "from requests.auth import HTTPBasicAuth\n",
    "\n",
    "pd.set_option('display.max_colwidth', None)"
   ]
  },
  {
   "cell_type": "code",
   "execution_count": 63,
   "id": "648449f9",
   "metadata": {},
   "outputs": [],
   "source": [
    "url = 'https://softprotech-nfr.saas.appdynamics.com/controller/rest/applications/175/tiers/744/nodes'"
   ]
  },
  {
   "cell_type": "code",
   "execution_count": 64,
   "id": "ac6d633d",
   "metadata": {},
   "outputs": [],
   "source": [
    "response = requests.get(url, auth=HTTPBasicAuth('softprotech-nfr@softprotech-nfr', 'P@ssword01'))"
   ]
  },
  {
   "cell_type": "code",
   "execution_count": 56,
   "id": "37032d4e",
   "metadata": {},
   "outputs": [
    {
     "name": "stdout",
     "output_type": "stream",
     "text": [
      "<nodes><node>\n",
      "  <id>26596</id>\n",
      "  <name>appd-api-1-0</name>\n",
      "  <type>Other</type>\n",
      "  <tierId>744</tierId>\n",
      "  <tierName>ap</tierName>\n",
      "  <machineId>36065</machineId>\n",
      "  <machineName>appd-api-1</machineName>\n",
      "  <machineOSType>Linux</machineOSType>\n",
      "  <machineAgentPresent>true</machineAgentPresent>\n",
      "  <machineAgentVersion>Machine Agent v22.2.0-3282 GA compatible with 4.4.1.0 Build Date 2022-02-18 08:02:20</machineAgentVersion>\n",
      "  <appAgentPresent>true</appAgentPresent>\n",
      "  <appAgentVersion>22.2.0.0 compatible with 4.4.1.0</appAgentVersion>\n",
      "  <ipAddresses>\n",
      "    <ipAddress>fe80::fb14:8c75:79bc:54ba%ens192</ipAddress>\n",
      "    <ipAddress>10.168.1.142</ipAddress>\n",
      "  </ipAddresses>\n",
      "  <agentType>NODEJS_APP_AGENT</agentType>\n",
      "</node>\n",
      "<node>\n",
      "  <id>26598</id>\n",
      "  <name>appd-api-2-0</name>\n",
      "  <type>Other</type>\n",
      "  <tierId>744</tierId>\n",
      "  <tierName>ap</tierName>\n",
      "  <machineId>36066</machineId>\n",
      "  <machineName>appd-api-2</machineName>\n",
      "  <machineOSType>Linux</machineOSType>\n",
      "  <machineAgentPresent>true</machineAgentPresent>\n",
      "  <machineAgentVersion>Machine Agent v22.2.0-3282 GA compatible with 4.4.1.0 Build Date 2022-02-18 08:02:20</machineAgentVersion>\n",
      "  <appAgentPresent>true</appAgentPresent>\n",
      "  <appAgentVersion>22.2.0.0 compatible with 4.4.1.0</appAgentVersion>\n",
      "  <ipAddresses>\n",
      "    <ipAddress>fe80::bf2d:bba2:7909:3c27%ens192</ipAddress>\n",
      "    <ipAddress>10.168.1.143</ipAddress>\n",
      "  </ipAddresses>\n",
      "  <agentType>NODEJS_APP_AGENT</agentType>\n",
      "</node>\n",
      "</nodes>\n"
     ]
    }
   ],
   "source": [
    "print(response.text)"
   ]
  },
  {
   "cell_type": "code",
   "execution_count": 57,
   "id": "c63105b9",
   "metadata": {},
   "outputs": [],
   "source": [
    "df = pd.read_xml(response.text)\n",
    "\n",
    "# df['startTimeInMillis'] = pd.to_datetime(df['startTimeInMillis'], unit='ms',utc=True).dt.tz_convert('Asia/Taipei')"
   ]
  },
  {
   "cell_type": "code",
   "execution_count": 62,
   "id": "7dc7dbbf",
   "metadata": {},
   "outputs": [
    {
     "data": {
      "text/html": [
       "<div>\n",
       "<style scoped>\n",
       "    .dataframe tbody tr th:only-of-type {\n",
       "        vertical-align: middle;\n",
       "    }\n",
       "\n",
       "    .dataframe tbody tr th {\n",
       "        vertical-align: top;\n",
       "    }\n",
       "\n",
       "    .dataframe thead th {\n",
       "        text-align: right;\n",
       "    }\n",
       "</style>\n",
       "<table border=\"1\" class=\"dataframe\">\n",
       "  <thead>\n",
       "    <tr style=\"text-align: right;\">\n",
       "      <th></th>\n",
       "      <th>id</th>\n",
       "      <th>name</th>\n",
       "      <th>type</th>\n",
       "      <th>tierId</th>\n",
       "      <th>tierName</th>\n",
       "      <th>machineId</th>\n",
       "      <th>machineName</th>\n",
       "      <th>machineOSType</th>\n",
       "      <th>machineAgentPresent</th>\n",
       "      <th>machineAgentVersion</th>\n",
       "      <th>appAgentPresent</th>\n",
       "      <th>appAgentVersion</th>\n",
       "      <th>ipAddresses</th>\n",
       "      <th>agentType</th>\n",
       "    </tr>\n",
       "  </thead>\n",
       "  <tbody>\n",
       "    <tr>\n",
       "      <th>0</th>\n",
       "      <td>26596</td>\n",
       "      <td>appd-api-1-0</td>\n",
       "      <td>Other</td>\n",
       "      <td>744</td>\n",
       "      <td>ap</td>\n",
       "      <td>36065</td>\n",
       "      <td>appd-api-1</td>\n",
       "      <td>Linux</td>\n",
       "      <td>True</td>\n",
       "      <td>Machine Agent v22.2.0-3282 GA compatible with 4.4.1.0 Build Date 2022-02-18 08:02:20</td>\n",
       "      <td>True</td>\n",
       "      <td>22.2.0.0 compatible with 4.4.1.0</td>\n",
       "      <td>NaN</td>\n",
       "      <td>NODEJS_APP_AGENT</td>\n",
       "    </tr>\n",
       "    <tr>\n",
       "      <th>1</th>\n",
       "      <td>26598</td>\n",
       "      <td>appd-api-2-0</td>\n",
       "      <td>Other</td>\n",
       "      <td>744</td>\n",
       "      <td>ap</td>\n",
       "      <td>36066</td>\n",
       "      <td>appd-api-2</td>\n",
       "      <td>Linux</td>\n",
       "      <td>True</td>\n",
       "      <td>Machine Agent v22.2.0-3282 GA compatible with 4.4.1.0 Build Date 2022-02-18 08:02:20</td>\n",
       "      <td>True</td>\n",
       "      <td>22.2.0.0 compatible with 4.4.1.0</td>\n",
       "      <td>NaN</td>\n",
       "      <td>NODEJS_APP_AGENT</td>\n",
       "    </tr>\n",
       "  </tbody>\n",
       "</table>\n",
       "</div>"
      ],
      "text/plain": [
       "      id          name   type  tierId tierName  machineId machineName  \\\n",
       "0  26596  appd-api-1-0  Other     744       ap      36065  appd-api-1   \n",
       "1  26598  appd-api-2-0  Other     744       ap      36066  appd-api-2   \n",
       "\n",
       "  machineOSType  machineAgentPresent  \\\n",
       "0         Linux                 True   \n",
       "1         Linux                 True   \n",
       "\n",
       "                                                                    machineAgentVersion  \\\n",
       "0  Machine Agent v22.2.0-3282 GA compatible with 4.4.1.0 Build Date 2022-02-18 08:02:20   \n",
       "1  Machine Agent v22.2.0-3282 GA compatible with 4.4.1.0 Build Date 2022-02-18 08:02:20   \n",
       "\n",
       "   appAgentPresent                   appAgentVersion  ipAddresses  \\\n",
       "0             True  22.2.0.0 compatible with 4.4.1.0          NaN   \n",
       "1             True  22.2.0.0 compatible with 4.4.1.0          NaN   \n",
       "\n",
       "          agentType  \n",
       "0  NODEJS_APP_AGENT  \n",
       "1  NODEJS_APP_AGENT  "
      ]
     },
     "execution_count": 62,
     "metadata": {},
     "output_type": "execute_result"
    }
   ],
   "source": [
    "df"
   ]
  },
  {
   "cell_type": "code",
   "execution_count": null,
   "id": "d723642d",
   "metadata": {},
   "outputs": [],
   "source": []
  }
 ],
 "metadata": {
  "kernelspec": {
   "display_name": "Python 3 (ipykernel)",
   "language": "python",
   "name": "python3"
  },
  "language_info": {
   "codemirror_mode": {
    "name": "ipython",
    "version": 3
   },
   "file_extension": ".py",
   "mimetype": "text/x-python",
   "name": "python",
   "nbconvert_exporter": "python",
   "pygments_lexer": "ipython3",
   "version": "3.10.6"
  }
 },
 "nbformat": 4,
 "nbformat_minor": 5
}
