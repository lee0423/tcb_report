{
 "cells": [
  {
   "cell_type": "code",
   "execution_count": 4,
   "id": "5bdcab89",
   "metadata": {},
   "outputs": [],
   "source": [
    "import pandas as pd\n",
    "import requests\n",
    "from requests.auth import HTTPBasicAuth\n",
    "\n",
    "pd.set_option('display.max_colwidth', None)"
   ]
  },
  {
   "cell_type": "code",
   "execution_count": 34,
   "id": "648449f9",
   "metadata": {},
   "outputs": [],
   "source": [
    "url = 'https://softprotech-nfr.saas.appdynamics.com/controller/rest/applications/Server%20&%20Infrastructure%20Monitoring/metric-data?metric-path=Application%20Infrastructure%20Performance%7CRoot%7CIndividual%20Nodes%7Cappd-api-1%7CHardware%20Resources%7CCPU%7CSystem&time-range-type=BEFORE_NOW&duration-in-mins=43200'"
   ]
  },
  {
   "cell_type": "code",
   "execution_count": 35,
   "id": "ac6d633d",
   "metadata": {},
   "outputs": [],
   "source": [
    "response = requests.get(url, auth=HTTPBasicAuth('softprotech-nfr@softprotech-nfr', 'P@ssword01'))"
   ]
  },
  {
   "cell_type": "code",
   "execution_count": 36,
   "id": "37032d4e",
   "metadata": {},
   "outputs": [
    {
     "name": "stdout",
     "output_type": "stream",
     "text": [
      "<metric-datas>\n",
      "  <metric-data>\n",
      "    <metricId>483689</metricId>\n",
      "    <metricName>Hardware Resources|CPU|System</metricName>\n",
      "    <metricPath>Application Infrastructure Performance|Root|Individual Nodes|appd-api-1|Hardware Resources|CPU|System</metricPath>\n",
      "    <frequency>CUSTOM</frequency>\n",
      "    <metricValues>\n",
      "      <metric-value>\n",
      "        <startTimeInMillis>1662442980000</startTimeInMillis>\n",
      "        <occurrences>701</occurrences>\n",
      "        <current>2</current>\n",
      "        <min>2</min>\n",
      "        <max>8</max>\n",
      "        <useRange>true</useRange>\n",
      "        <count>838217</count>\n",
      "        <sum>2659891</sum>\n",
      "        <value>3</value>\n",
      "        <standardDeviation>0</standardDeviation>\n",
      "      </metric-value>\n",
      "    </metricValues>\n",
      "  </metric-data>\n",
      "</metric-datas>\n",
      "\n"
     ]
    }
   ],
   "source": [
    "print(response.text)"
   ]
  },
  {
   "cell_type": "code",
   "execution_count": 37,
   "id": "c63105b9",
   "metadata": {},
   "outputs": [],
   "source": [
    "df = pd.read_xml(response.text, xpath=\".//metric-value\")\n",
    "\n",
    "df['startTimeInMillis'] = pd.to_datetime(df['startTimeInMillis'], unit='ms').dt.tz_localize('Asia/Taipei')"
   ]
  },
  {
   "cell_type": "code",
   "execution_count": 38,
   "id": "7dc7dbbf",
   "metadata": {},
   "outputs": [
    {
     "data": {
      "text/html": [
       "<div>\n",
       "<style scoped>\n",
       "    .dataframe tbody tr th:only-of-type {\n",
       "        vertical-align: middle;\n",
       "    }\n",
       "\n",
       "    .dataframe tbody tr th {\n",
       "        vertical-align: top;\n",
       "    }\n",
       "\n",
       "    .dataframe thead th {\n",
       "        text-align: right;\n",
       "    }\n",
       "</style>\n",
       "<table border=\"1\" class=\"dataframe\">\n",
       "  <thead>\n",
       "    <tr style=\"text-align: right;\">\n",
       "      <th></th>\n",
       "      <th>startTimeInMillis</th>\n",
       "      <th>occurrences</th>\n",
       "      <th>current</th>\n",
       "      <th>min</th>\n",
       "      <th>max</th>\n",
       "      <th>useRange</th>\n",
       "      <th>count</th>\n",
       "      <th>sum</th>\n",
       "      <th>value</th>\n",
       "      <th>standardDeviation</th>\n",
       "    </tr>\n",
       "  </thead>\n",
       "  <tbody>\n",
       "    <tr>\n",
       "      <th>0</th>\n",
       "      <td>2022-09-06 05:43:00+08:00</td>\n",
       "      <td>701</td>\n",
       "      <td>2</td>\n",
       "      <td>2</td>\n",
       "      <td>8</td>\n",
       "      <td>True</td>\n",
       "      <td>838217</td>\n",
       "      <td>2659891</td>\n",
       "      <td>3</td>\n",
       "      <td>0</td>\n",
       "    </tr>\n",
       "  </tbody>\n",
       "</table>\n",
       "</div>"
      ],
      "text/plain": [
       "          startTimeInMillis  occurrences  current  min  max  useRange   count  \\\n",
       "0 2022-09-06 05:43:00+08:00          701        2    2    8      True  838217   \n",
       "\n",
       "       sum  value  standardDeviation  \n",
       "0  2659891      3                  0  "
      ]
     },
     "execution_count": 38,
     "metadata": {},
     "output_type": "execute_result"
    }
   ],
   "source": [
    "df"
   ]
  }
 ],
 "metadata": {
  "kernelspec": {
   "display_name": "Python 3 (ipykernel)",
   "language": "python",
   "name": "python3"
  },
  "language_info": {
   "codemirror_mode": {
    "name": "ipython",
    "version": 3
   },
   "file_extension": ".py",
   "mimetype": "text/x-python",
   "name": "python",
   "nbconvert_exporter": "python",
   "pygments_lexer": "ipython3",
   "version": "3.10.6"
  }
 },
 "nbformat": 4,
 "nbformat_minor": 5
}
